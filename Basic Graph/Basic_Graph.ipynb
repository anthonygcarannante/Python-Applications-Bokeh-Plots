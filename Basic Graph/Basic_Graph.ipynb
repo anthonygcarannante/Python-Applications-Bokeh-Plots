{
 "cells": [
  {
   "cell_type": "code",
   "execution_count": 6,
   "id": "wound-reform",
   "metadata": {},
   "outputs": [],
   "source": [
    "# This is a basic line graph\n",
    "\n",
    "# Importing Bokeh libraries\n",
    "from bokeh.plotting import figure\n",
    "from bokeh.io import output_file, show\n",
    "import pandas as pd\n",
    "\n",
    "# Prepare data\n",
    "x=[1,2,3,4,5]\n",
    "y=[6,7,8,9,10]\n",
    "\n",
    "# Prepare the output file\n",
    "output_file(\"Line.html\")\n",
    "\n",
    "# Create figure object\n",
    "f=figure()\n",
    "\n",
    "# Create Line Plot\n",
    "f.line(x,y)\n",
    "\n",
    "# Show plot\n",
    "show(f)"
   ]
  },
  {
   "cell_type": "code",
   "execution_count": 7,
   "id": "saving-dover",
   "metadata": {},
   "outputs": [],
   "source": [
    "# Prepare data\n",
    "df = pd.read_csv('Data.csv')\n",
    "x = df['x']\n",
    "y = df['y']\n",
    "\n",
    "# Prepare the output file\n",
    "output_file(\"Line.html\")\n",
    "\n",
    "# Create figure object\n",
    "f=figure()\n",
    "\n",
    "# Create triangle Plot\n",
    "f.line(x,y)\n",
    "\n",
    "# Show plot\n",
    "show(f)"
   ]
  },
  {
   "cell_type": "code",
   "execution_count": 8,
   "id": "polish-voluntary",
   "metadata": {},
   "outputs": [],
   "source": [
    "# Plot of women who earned engineering degrees\n",
    "eng_degree_df = pd.read_csv('bachelors.csv')\n",
    "x = eng_degree_df['Year']\n",
    "y = eng_degree_df['Engineering']\n",
    "\n",
    "# Prepare the output file\n",
    "output_file(\"Line_of_degrees.html\")\n",
    "\n",
    "# Create figure object\n",
    "f=figure()\n",
    "\n",
    "# Create triangle Plot\n",
    "f.line(x,y)\n",
    "\n",
    "# Show plot\n",
    "show(f)"
   ]
  },
  {
   "cell_type": "code",
   "execution_count": null,
   "id": "portuguese-lesbian",
   "metadata": {},
   "outputs": [],
   "source": []
  }
 ],
 "metadata": {
  "kernelspec": {
   "display_name": "Python [conda env:anaconda3-PythonData] *",
   "language": "python",
   "name": "conda-env-anaconda3-PythonData-py"
  },
  "language_info": {
   "codemirror_mode": {
    "name": "ipython",
    "version": 3
   },
   "file_extension": ".py",
   "mimetype": "text/x-python",
   "name": "python",
   "nbconvert_exporter": "python",
   "pygments_lexer": "ipython3",
   "version": "3.8.8"
  }
 },
 "nbformat": 4,
 "nbformat_minor": 5
}
